{
 "cells": [
  {
   "cell_type": "markdown",
   "id": "f3cd7747",
   "metadata": {},
   "source": [
    "#  100 PYTHON QUESTIONS "
   ]
  },
  {
   "cell_type": "markdown",
   "id": "3d309b78",
   "metadata": {},
   "source": [
    "1. User will input (3ages).Find the oldest one"
   ]
  },
  {
   "cell_type": "code",
   "execution_count": 1,
   "id": "b226270e",
   "metadata": {},
   "outputs": [
    {
     "name": "stdout",
     "output_type": "stream",
     "text": [
      "7\n"
     ]
    }
   ],
   "source": [
    "a = 4\n",
    "b = 5 \n",
    "c = 7\n",
    "\n",
    "# a = int(input(\"Enter 1st Age \"))\n",
    "# b = int(input(\"Enter 2nd Age \"))\n",
    "# c = int(input(\"Enter 3rd Age \"))\n",
    "\n",
    "if (a >= b) and (a >= c):\n",
    "    largest = a\n",
    "elif (b >= c) and (b >= a):\n",
    "    largest = b\n",
    "else:\n",
    "    largest = c\n",
    "print(largest)"
   ]
  },
  {
   "cell_type": "markdown",
   "id": "973ca853",
   "metadata": {},
   "source": [
    "Python Program to Print all Prime Numbers in an Interval"
   ]
  },
  {
   "cell_type": "code",
   "execution_count": 2,
   "id": "d4e67e13",
   "metadata": {},
   "outputs": [
    {
     "name": "stdout",
     "output_type": "stream",
     "text": [
      "45\n",
      "47\n",
      "49\n",
      "51\n",
      "53\n",
      "55\n",
      "57\n",
      "59\n",
      "61\n",
      "63\n",
      "65\n",
      "67\n",
      "69\n",
      "71\n",
      "73\n",
      "75\n",
      "77\n",
      "79\n",
      "81\n",
      "83\n",
      "85\n",
      "87\n",
      "89\n",
      "91\n",
      "93\n",
      "95\n",
      "97\n",
      "99\n"
     ]
    }
   ],
   "source": [
    "lower = 45\n",
    "upper = 99\n",
    "\n",
    "# lower= int(input(\"Enter the lower number \"))\n",
    "# upper = int(input(\"Enter the upper number \"))\n",
    "\n",
    "for num in range(lower,upper + 1):\n",
    "    if num > 1:\n",
    "        for i in (2, num):      \n",
    "            if (num % i) == 0:\n",
    "                break\n",
    "            else:\n",
    "                print(num)"
   ]
  },
  {
   "cell_type": "markdown",
   "id": "bbe8bb47",
   "metadata": {},
   "source": [
    "Python Program to Find the Factorial of a Number"
   ]
  },
  {
   "cell_type": "code",
   "execution_count": 3,
   "id": "b2ba518d",
   "metadata": {},
   "outputs": [
    {
     "name": "stdout",
     "output_type": "stream",
     "text": [
      "5040\n"
     ]
    }
   ],
   "source": [
    "num = 7\n",
    "\n",
    "# num = int(input(\"Enter the number \"))\n",
    "\n",
    "factorial = 1\n",
    "if num == 0:\n",
    "    print(\"Factorial of 0 is\", 1)\n",
    "elif num > 0:\n",
    "    for i in range(1, num + 1):\n",
    "        factorial = factorial * i\n",
    "    print(factorial)\n",
    "else:\n",
    "    print(\"Enter positve number\")"
   ]
  },
  {
   "cell_type": "markdown",
   "id": "25d53e86",
   "metadata": {},
   "source": [
    "Python Program to Display the multiplication Table"
   ]
  },
  {
   "cell_type": "code",
   "execution_count": 4,
   "id": "e19e6720",
   "metadata": {},
   "outputs": [
    {
     "name": "stdout",
     "output_type": "stream",
     "text": [
      "34 * 1 = 34\n",
      "34 * 2 = 68\n",
      "34 * 3 = 102\n",
      "34 * 4 = 136\n",
      "34 * 5 = 170\n",
      "34 * 6 = 204\n",
      "34 * 7 = 238\n",
      "34 * 8 = 272\n",
      "34 * 9 = 306\n",
      "34 * 10 = 340\n"
     ]
    }
   ],
   "source": [
    "num = 34\n",
    "\n",
    "# num = int(input(\"enter the number \"))\n",
    "\n",
    "for i in range(1,11):\n",
    "    print(f\"{num} * {i} = {num*i}\")"
   ]
  },
  {
   "cell_type": "markdown",
   "id": "7ac280c7",
   "metadata": {},
   "source": [
    "Python Program to Print the Fibonacci sequence"
   ]
  },
  {
   "cell_type": "code",
   "execution_count": 5,
   "id": "63be9bcf",
   "metadata": {},
   "outputs": [
    {
     "name": "stdout",
     "output_type": "stream",
     "text": [
      "0\n",
      "1\n",
      "1\n",
      "2\n",
      "3\n"
     ]
    }
   ],
   "source": [
    "nterms = 5\n",
    "\n",
    "# nterms = int(input(\"How many terms? \"))\n",
    "\n",
    "n1, n2 = 0, 1\n",
    "count = 0\n",
    "\n",
    "if nterms == 1:\n",
    "    print(n1)\n",
    "elif nterms > 1:\n",
    "    while count < nterms:\n",
    "        print(n1)\n",
    "        nth = n1 + n2\n",
    "        n1 = n2 \n",
    "        n2 = nth\n",
    "        count += 1\n",
    "else:\n",
    "    print(\"Enter positive number and more than equal to 1\")"
   ]
  },
  {
   "cell_type": "markdown",
   "id": "15437442",
   "metadata": {},
   "source": [
    "Python Program to Check Armstrong Number"
   ]
  },
  {
   "cell_type": "code",
   "execution_count": 6,
   "id": "be676b58",
   "metadata": {},
   "outputs": [
    {
     "name": "stdout",
     "output_type": "stream",
     "text": [
      "Number is Armstrong\n"
     ]
    }
   ],
   "source": [
    "num = 153\n",
    "order = len(str(num))\n",
    "sum = 0\n",
    "\n",
    "temp = num\n",
    "while temp > 0:\n",
    "    digit = temp % 10\n",
    "    sum += digit ** order\n",
    "    temp //= 10\n",
    "if num == sum:\n",
    "    print(\"Number is Armstrong\")\n",
    "else:\n",
    "    print(\"Number is not Armstrong\")"
   ]
  },
  {
   "cell_type": "markdown",
   "id": "7638a52b",
   "metadata": {},
   "source": [
    "Python Program to Find Armstrong Number in an Interval"
   ]
  },
  {
   "cell_type": "code",
   "execution_count": 7,
   "id": "6d775352",
   "metadata": {},
   "outputs": [
    {
     "name": "stdout",
     "output_type": "stream",
     "text": [
      "153\n",
      "370\n",
      "371\n",
      "407\n",
      "1634\n",
      "8208\n",
      "9474\n"
     ]
    }
   ],
   "source": [
    "lower = 100\n",
    "upper = 9999\n",
    "\n",
    "for i in range(lower, upper + 1):\n",
    "    order = len(str(i))\n",
    "    temp = i\n",
    "    sum = 0\n",
    "    while temp > 0:\n",
    "        digit = temp % 10\n",
    "        sum += digit ** order\n",
    "        temp //= 10\n",
    "    if i == sum:\n",
    "        print(i)"
   ]
  },
  {
   "cell_type": "markdown",
   "id": "01dbf351",
   "metadata": {},
   "source": [
    "Python Program to Find the Sum of Natural Numbers"
   ]
  },
  {
   "cell_type": "code",
   "execution_count": 8,
   "id": "7fee799f",
   "metadata": {},
   "outputs": [
    {
     "name": "stdout",
     "output_type": "stream",
     "text": [
      "15\n"
     ]
    }
   ],
   "source": [
    "num = 5\n",
    "\n",
    "sum = 0\n",
    "if num < 0:\n",
    "    print(\"Enter positive number\")\n",
    "else:\n",
    "    while(num > 0):\n",
    "        sum += num\n",
    "        num -= 1\n",
    "print(sum)"
   ]
  },
  {
   "cell_type": "markdown",
   "id": "1ddcc727",
   "metadata": {},
   "source": [
    "Python Program to Display Powers of 2 Using Anonymous Function"
   ]
  },
  {
   "cell_type": "code",
   "execution_count": 9,
   "id": "f93a9538",
   "metadata": {},
   "outputs": [
    {
     "name": "stdout",
     "output_type": "stream",
     "text": [
      "[1, 2, 4, 8, 16, 32, 64, 128, 256, 512]\n",
      "The total terms are: 10\n",
      "2 raised to power 0 is 1\n",
      "2 raised to power 1 is 2\n",
      "2 raised to power 2 is 4\n",
      "2 raised to power 3 is 8\n",
      "2 raised to power 4 is 16\n",
      "2 raised to power 5 is 32\n",
      "2 raised to power 6 is 64\n",
      "2 raised to power 7 is 128\n",
      "2 raised to power 8 is 256\n",
      "2 raised to power 9 is 512\n"
     ]
    }
   ],
   "source": [
    "terms = 10\n",
    "\n",
    "# use anonymous function\n",
    "result = list(map(lambda x: 2 ** x, range(terms)))\n",
    "print(result)\n",
    "\n",
    "print(\"The total terms are:\",terms)\n",
    "for i in range(terms):\n",
    "   print(\"2 raised to power\",i,\"is\",result[i])"
   ]
  },
  {
   "cell_type": "markdown",
   "id": "53d2fdc0",
   "metadata": {},
   "source": [
    "Python Program to Find Numbers Divisible by Another Number "
   ]
  },
  {
   "cell_type": "code",
   "execution_count": 10,
   "id": "b8d8b46f",
   "metadata": {},
   "outputs": [
    {
     "name": "stdout",
     "output_type": "stream",
     "text": [
      "[130, 143]\n"
     ]
    }
   ],
   "source": [
    "num = [23,45,34,56,76,89,333,130, 143]\n",
    "\n",
    "result = list(filter(lambda x: x % 13 == 0, num))\n",
    "print(result)"
   ]
  },
  {
   "cell_type": "markdown",
   "id": "5125a85b",
   "metadata": {},
   "source": [
    "Python Program to Convert Decimal to Binary, Octal and Hexadecimal"
   ]
  },
  {
   "cell_type": "code",
   "execution_count": 11,
   "id": "add9b6cd",
   "metadata": {},
   "outputs": [
    {
     "name": "stdout",
     "output_type": "stream",
     "text": [
      "The decimal value of 344 is:\n",
      "0b101011000 in binary.\n",
      "0o530 in octal.\n",
      "0x158 in hexadecimal.\n"
     ]
    }
   ],
   "source": [
    "dec = 344 \n",
    "\n",
    "print(\"The decimal value of\", dec, \"is:\")\n",
    "print(bin(dec), \"in binary.\")\n",
    "print(oct(dec), \"in octal.\")\n",
    "print(hex(dec), \"in hexadecimal.\")\n"
   ]
  },
  {
   "cell_type": "markdown",
   "id": "254ab749",
   "metadata": {},
   "source": [
    "Python Program to Find ASCII Value of Character"
   ]
  },
  {
   "cell_type": "code",
   "execution_count": 12,
   "id": "0c25dc28",
   "metadata": {},
   "outputs": [
    {
     "name": "stdout",
     "output_type": "stream",
     "text": [
      "The ASCII value of 'p' is 112\n"
     ]
    }
   ],
   "source": [
    "c = 'p'\n",
    "print(\"The ASCII value of '\" + c + \"' is\", ord(c))\n"
   ]
  },
  {
   "cell_type": "markdown",
   "id": "ecda084b",
   "metadata": {},
   "source": [
    "Python Program to Find HCF or GCD"
   ]
  },
  {
   "cell_type": "code",
   "execution_count": 13,
   "id": "a6b4454e",
   "metadata": {},
   "outputs": [
    {
     "name": "stdout",
     "output_type": "stream",
     "text": [
      "8\n"
     ]
    }
   ],
   "source": [
    "def hcf(num1, num2):\n",
    "    if num1 > num2:\n",
    "        smaller = num2\n",
    "    else:\n",
    "        smaller = num1\n",
    "    for i in range(1, smaller + 1):\n",
    "        if (num1 % i == 0) and (num2 % i == 0):\n",
    "            hcf = i\n",
    "    return hcf\n",
    "\n",
    "result = hcf(24, 32)\n",
    "print(result)"
   ]
  },
  {
   "cell_type": "markdown",
   "id": "d6d8db22",
   "metadata": {},
   "source": [
    "Python Program to Find LCM"
   ]
  },
  {
   "cell_type": "code",
   "execution_count": 14,
   "id": "75c3a0cd",
   "metadata": {},
   "outputs": [
    {
     "data": {
      "text/plain": [
       "216"
      ]
     },
     "execution_count": 14,
     "metadata": {},
     "output_type": "execute_result"
    }
   ],
   "source": [
    "def lcm(x, y):\n",
    "    if x > y:\n",
    "        greater = x\n",
    "    else:\n",
    "        greater = y\n",
    "        \n",
    "    while(True):\n",
    "        if (greater % x == 0) and (greater % y == 0):\n",
    "            lcm = greater\n",
    "            break\n",
    "        greater += 1\n",
    "    return lcm\n",
    "\n",
    "lcm(24, 54)"
   ]
  },
  {
   "cell_type": "markdown",
   "id": "2f310c4a",
   "metadata": {},
   "source": [
    "Python Program to Find the Factors of a Number"
   ]
  },
  {
   "cell_type": "code",
   "execution_count": 15,
   "id": "86f9cc33",
   "metadata": {},
   "outputs": [
    {
     "name": "stdout",
     "output_type": "stream",
     "text": [
      "1\n",
      "2\n",
      "3\n",
      "4\n",
      "6\n",
      "8\n",
      "12\n",
      "24\n"
     ]
    }
   ],
   "source": [
    "def factors(num):\n",
    "    for i in range(1, num + 1):\n",
    "        if (num % i) == 0:\n",
    "            print(i)\n",
    "\n",
    "factors(24)"
   ]
  },
  {
   "cell_type": "markdown",
   "id": "75771d25",
   "metadata": {},
   "source": [
    "Python Program to Make a Simple Calculator"
   ]
  },
  {
   "cell_type": "code",
   "execution_count": 16,
   "id": "a1392ee8",
   "metadata": {},
   "outputs": [],
   "source": [
    "# def add(x, y):\n",
    "#     return x + y\n",
    "\n",
    "# def subtract(x, y):\n",
    "#     return x - y\n",
    "\n",
    "# def multiply(x, y):\n",
    "#     return x * y\n",
    "\n",
    "# def divide(x, y):\n",
    "#     return x / y\n",
    "\n",
    "\n",
    "# print(\"Select operation.\")\n",
    "# print(\"1.Add\")\n",
    "# print(\"2.Subtract\")\n",
    "# print(\"3.Multiply\")\n",
    "# print(\"4.Divide\")\n",
    "\n",
    "# while True:\n",
    "#     # take input from the user\n",
    "#     choice = input(\"Enter choice(1/2/3/4): \")\n",
    "\n",
    "#     # check if choice is one of the four options\n",
    "#     if choice in ('1', '2', '3', '4'):\n",
    "        \n",
    "# #         num1 = float(input(\"Enter first number: \"))\n",
    "# #         num2 = float(input(\"Enter second number: \"))\n",
    "#         num1 = 5\n",
    "#         num2 = 24\n",
    "\n",
    "#         if choice == '1':\n",
    "#             print(num1, \"+\", num2, \"=\", add(num1, num2))\n",
    "\n",
    "#         elif choice == '2':\n",
    "#             print(num1, \"-\", num2, \"=\", subtract(num1, num2))\n",
    "\n",
    "#         elif choice == '3':\n",
    "#             print(num1, \"*\", num2, \"=\", multiply(num1, num2))\n",
    "\n",
    "#         elif choice == '4':\n",
    "#             print(num1, \"/\", num2, \"=\", divide(num1, num2))\n",
    "        \n",
    "#         # check if user wants another calculation\n",
    "#         # break the while loop if answer is no\n",
    "#         next_calculation = input(\"Let's do next calculation? (yes/no): \")\n",
    "#         if next_calculation == \"no\":\n",
    "#             break\n",
    "    \n",
    "#     else:\n",
    "#         print(\"Invalid Input\")"
   ]
  },
  {
   "cell_type": "markdown",
   "id": "6e6e2b1b",
   "metadata": {},
   "source": [
    "Python Program to Shuffle Deck of Cards"
   ]
  },
  {
   "cell_type": "code",
   "execution_count": 17,
   "id": "6450e4df",
   "metadata": {},
   "outputs": [
    {
     "name": "stdout",
     "output_type": "stream",
     "text": [
      "[(13, 'Diamond'), (2, 'Club'), (5, 'Spade'), (5, 'Heart'), (10, 'Diamond'), (9, 'Spade'), (11, 'Club'), (10, 'Club'), (7, 'Spade'), (13, 'Spade'), (3, 'Spade'), (9, 'Club'), (3, 'Club'), (12, 'Diamond'), (6, 'Spade'), (4, 'Club'), (6, 'Heart'), (11, 'Diamond'), (1, 'Spade'), (9, 'Heart'), (11, 'Heart'), (12, 'Heart'), (6, 'Diamond'), (7, 'Heart'), (8, 'Heart'), (5, 'Club'), (8, 'Spade'), (10, 'Heart'), (5, 'Diamond'), (8, 'Diamond'), (2, 'Diamond'), (1, 'Club'), (4, 'Spade'), (11, 'Spade'), (2, 'Spade'), (13, 'Heart'), (4, 'Heart'), (2, 'Heart'), (12, 'Spade'), (6, 'Club'), (1, 'Heart'), (13, 'Club'), (1, 'Diamond'), (9, 'Diamond'), (3, 'Diamond'), (3, 'Heart'), (8, 'Club'), (12, 'Club'), (4, 'Diamond'), (7, 'Club'), (7, 'Diamond'), (10, 'Spade')]\n",
      "you got: \n",
      "13 is Diamond\n",
      "2 is Club\n",
      "5 is Spade\n",
      "5 is Heart\n",
      "10 is Diamond\n"
     ]
    }
   ],
   "source": [
    "import random,itertools\n",
    "\n",
    "deck = list(itertools.product(range(1, 14), ['Heart', 'Diamond', 'Club', 'Spade']))\n",
    "random.shuffle(deck)\n",
    "print(deck)\n",
    "\n",
    "print(\"you got: \")\n",
    "for i in range(5):\n",
    "    print(f\"{deck[i][0]} is {deck[i][1]}\")"
   ]
  },
  {
   "cell_type": "markdown",
   "id": "7b8a2b96",
   "metadata": {},
   "source": [
    "Python Program to Display Fibonacci Sequence Using Recursion"
   ]
  },
  {
   "cell_type": "code",
   "execution_count": 18,
   "id": "daea7929",
   "metadata": {},
   "outputs": [
    {
     "name": "stdout",
     "output_type": "stream",
     "text": [
      "0\n",
      "1\n",
      "1\n",
      "2\n"
     ]
    }
   ],
   "source": [
    "def fibonacci(n):\n",
    "    if n <= 1:\n",
    "        return n\n",
    "    else:\n",
    "        return(fibonacci(n-1) + fibonacci(n-2))\n",
    "\n",
    "num = 4\n",
    "if num <= 0:\n",
    "    print(\"Please enter positive number\")\n",
    "else:\n",
    "    for i in range(num):\n",
    "        print(fibonacci(i))"
   ]
  },
  {
   "cell_type": "markdown",
   "id": "d2f45a73",
   "metadata": {},
   "source": [
    "Python Program to Find Sum of Natural Numbers Using Recursion"
   ]
  },
  {
   "cell_type": "code",
   "execution_count": 19,
   "id": "f3980b70",
   "metadata": {},
   "outputs": [
    {
     "name": "stdout",
     "output_type": "stream",
     "text": [
      "15\n"
     ]
    }
   ],
   "source": [
    "def sum(n):\n",
    "    if n <= 1:\n",
    "        return n\n",
    "    else:\n",
    "        return n + sum(n-1)\n",
    "\n",
    "num = 5\n",
    "if num < 0:\n",
    "    print(\"enter positive number\")\n",
    "else:\n",
    "     print(sum(num))"
   ]
  },
  {
   "cell_type": "markdown",
   "id": "a6d43a24",
   "metadata": {},
   "source": [
    "Python Program to Find Factorial of Number Using Recursion"
   ]
  },
  {
   "cell_type": "code",
   "execution_count": 20,
   "id": "0fbcd8ac",
   "metadata": {},
   "outputs": [
    {
     "name": "stdout",
     "output_type": "stream",
     "text": [
      "120\n"
     ]
    }
   ],
   "source": [
    "def factorial(n):\n",
    "    if n <= 1:\n",
    "        return n\n",
    "    else:\n",
    "        return n * factorial(n-1)\n",
    "num = 5\n",
    "if num < 0:\n",
    "    print(\"Enter positive number\")\n",
    "elif num == 0:\n",
    "    print(\"The factorial of 0 is 1\")\n",
    "else:\n",
    "    print(factorial(num))"
   ]
  },
  {
   "cell_type": "markdown",
   "id": "c5f3f257",
   "metadata": {},
   "source": [
    "Python Program to Convert Decimal to Binary Using Recursion"
   ]
  },
  {
   "cell_type": "code",
   "execution_count": 21,
   "id": "22431525",
   "metadata": {},
   "outputs": [
    {
     "name": "stdout",
     "output_type": "stream",
     "text": [
      "100010"
     ]
    }
   ],
   "source": [
    "def convertToBinary(n):\n",
    "    if n > 1:\n",
    "        convertToBinary(n//2)\n",
    "    print(n % 2, end = '')\n",
    "\n",
    "dec = 34\n",
    "convertToBinary(dec)"
   ]
  },
  {
   "cell_type": "markdown",
   "id": "f4dfa4c0",
   "metadata": {},
   "source": [
    "Python Program to Add Two Matrices"
   ]
  },
  {
   "cell_type": "code",
   "execution_count": 22,
   "id": "fc70db52",
   "metadata": {},
   "outputs": [
    {
     "name": "stdout",
     "output_type": "stream",
     "text": [
      "[17, 15, 4]\n",
      "[10, 12, 9]\n",
      "[11, 13, 18]\n"
     ]
    }
   ],
   "source": [
    "X = [[12,7,3],\n",
    "    [4 ,5,6],\n",
    "    [7 ,8,9]]\n",
    "\n",
    "Y = [[5,8,1],\n",
    "    [6,7,3],\n",
    "    [4,5,9]]\n",
    "\n",
    "result = [[0,0,0],\n",
    "         [0,0,0],\n",
    "         [0,0,0]]\n",
    "\n",
    "for i in range(len(X)):\n",
    "    for j in range(len(X[0])):\n",
    "        result[i][j] = X[i][j] + Y[i][j]\n",
    "# print(result)\n",
    "for r in result:        \n",
    "    print(r)\n"
   ]
  },
  {
   "cell_type": "markdown",
   "id": "e3c962df",
   "metadata": {},
   "source": [
    "Python Program to Transpose a Matrix"
   ]
  },
  {
   "cell_type": "code",
   "execution_count": 23,
   "id": "f3f67186",
   "metadata": {},
   "outputs": [
    {
     "name": "stdout",
     "output_type": "stream",
     "text": [
      "[12, 4, 7]\n",
      "[7, 5, 8]\n"
     ]
    }
   ],
   "source": [
    "X = [[12,7],\n",
    "    [4 ,5],\n",
    "    [7 ,8]]\n",
    "\n",
    "result = [[0,0,0],\n",
    "         [0,0,0]]\n",
    "\n",
    "for i in range(len(X)):\n",
    "    for j in range(len(X[0])):\n",
    "        result[j][i] = X[i][j]\n",
    "        \n",
    "for r in result:\n",
    "    print(r)\n",
    "    \n"
   ]
  },
  {
   "cell_type": "markdown",
   "id": "3bc22ae6",
   "metadata": {},
   "source": [
    "Python Program to Multiply Two Matrices"
   ]
  },
  {
   "cell_type": "code",
   "execution_count": 24,
   "id": "7680a38d",
   "metadata": {},
   "outputs": [
    {
     "name": "stdout",
     "output_type": "stream",
     "text": [
      "[114, 160, 60, 27]\n",
      "[74, 97, 73, 14]\n",
      "[119, 157, 112, 23]\n"
     ]
    }
   ],
   "source": [
    "X = [[12,7,3],\n",
    "    [4 ,5,6],\n",
    "    [7 ,8,9]]\n",
    "\n",
    "Y = [[5,8,1,2],\n",
    "    [6,7,3,0],\n",
    "    [4,5,9,1]]\n",
    "\n",
    "# result is 3x4\n",
    "result = [[0,0,0,0],\n",
    "         [0,0,0,0],\n",
    "         [0,0,0,0]]\n",
    "\n",
    "for i in range(len(X)):\n",
    "    for j in range(len(Y[0])):\n",
    "        for k in range(len(Y)):\n",
    "            result[i][j] += X[i][k] * Y[k][j]\n",
    "            \n",
    "for r in result:\n",
    "    print(r)"
   ]
  },
  {
   "cell_type": "markdown",
   "id": "361d0178",
   "metadata": {},
   "source": [
    "Python Program to Check Whether a String is Palindrome or Not"
   ]
  },
  {
   "cell_type": "code",
   "execution_count": 25,
   "id": "7a113f6e",
   "metadata": {},
   "outputs": [
    {
     "name": "stdout",
     "output_type": "stream",
     "text": [
      "The string is a palindrome.\n"
     ]
    }
   ],
   "source": [
    "my_str = 'Malayalam'\n",
    "\n",
    "my_str = my_str.casefold()\n",
    "# print(my_str)\n",
    "rev_str = reversed(my_str)\n",
    "# print(my_str)\n",
    "if list(my_str) == list(rev_str):\n",
    "    print(\"The string is a palindrome.\")\n",
    "else:\n",
    "    print(\"The string is not a palindrome.\")\n"
   ]
  },
  {
   "cell_type": "markdown",
   "id": "cbda9b87",
   "metadata": {},
   "source": [
    "Python Program to Remove Punctuations From a String"
   ]
  },
  {
   "cell_type": "code",
   "execution_count": 26,
   "id": "915a5915",
   "metadata": {},
   "outputs": [
    {
     "name": "stdout",
     "output_type": "stream",
     "text": [
      "Hello he said and went\n"
     ]
    }
   ],
   "source": [
    "punctuations = '''!()-[]{};:'\"\\,<>./?@#$%^&*_~'''\n",
    "\n",
    "my_str = \"Hello!!!, he said ---and went.\"\n",
    "\n",
    "no_punct = \"\"\n",
    "for char in my_str:\n",
    "    if char not in punctuations:\n",
    "        no_punct = no_punct + char\n",
    "\n",
    "print(no_punct)\n"
   ]
  },
  {
   "cell_type": "markdown",
   "id": "8d3975d2",
   "metadata": {},
   "source": [
    "Python Program to Sort Words in Alphabetic Order"
   ]
  },
  {
   "cell_type": "code",
   "execution_count": 27,
   "id": "2771a4fa",
   "metadata": {},
   "outputs": [
    {
     "name": "stdout",
     "output_type": "stream",
     "text": [
      "['how', 'are', 'you', 'and', 'how', 'are', 'you', 'feeling', 'now']\n",
      "and\n",
      "are\n",
      "are\n",
      "feeling\n",
      "how\n",
      "how\n",
      "now\n",
      "you\n",
      "you\n"
     ]
    }
   ],
   "source": [
    "str = 'How are You and How are you Feeling now'\n",
    "\n",
    "words = [word.lower() for word in str.split()]\n",
    "print(words)\n",
    "words.sort()\n",
    "\n",
    "for word in words:\n",
    "    print(word)"
   ]
  },
  {
   "cell_type": "markdown",
   "id": "92ca73de",
   "metadata": {},
   "source": [
    "Python Program to Illustrate Different Set Operations"
   ]
  },
  {
   "cell_type": "code",
   "execution_count": 28,
   "id": "d901d4b0",
   "metadata": {},
   "outputs": [
    {
     "name": "stdout",
     "output_type": "stream",
     "text": [
      "Union of E and N is {0, 1, 2, 3, 4, 5, 6, 8}\n",
      "Intersection of E and N is {2, 4}\n",
      "Difference of E and N is {0, 8, 6}\n",
      "Symmetric difference of E and N is {0, 1, 3, 5, 6, 8}\n"
     ]
    }
   ],
   "source": [
    "E = {0, 2, 4, 6, 8};\n",
    "N = {1, 2, 3, 4, 5};\n",
    "\n",
    "# set union\n",
    "print(\"Union of E and N is\",E | N)\n",
    "\n",
    "# set intersection\n",
    "print(\"Intersection of E and N is\",E & N)\n",
    "\n",
    "# set difference\n",
    "print(\"Difference of E and N is\",E - N)\n",
    "\n",
    "# set symmetric difference\n",
    "print(\"Symmetric difference of E and N is\",E ^ N)\n"
   ]
  },
  {
   "cell_type": "markdown",
   "id": "9dfdd0f5",
   "metadata": {},
   "source": [
    "Python Program to Count the Number of Each Vowel"
   ]
  },
  {
   "cell_type": "code",
   "execution_count": 29,
   "id": "180cf3ef",
   "metadata": {},
   "outputs": [
    {
     "name": "stdout",
     "output_type": "stream",
     "text": [
      "{'a': 2, 'e': 5, 'i': 3, 'o': 5, 'u': 3}\n"
     ]
    }
   ],
   "source": [
    "vowels = 'aeiou'\n",
    "ip_str = 'Hello, have you tried our tutorial section yet'\n",
    "\n",
    "ip_str.lower()\n",
    "count = {}.fromkeys(vowels,0)\n",
    "\n",
    "for i in ip_str:\n",
    "    if i in count:\n",
    "        count[i] += 1\n",
    "        \n",
    "print(count)"
   ]
  },
  {
   "cell_type": "markdown",
   "id": "6cddf75e",
   "metadata": {},
   "source": [
    "Python Program to Merge Mails"
   ]
  },
  {
   "cell_type": "code",
   "execution_count": 30,
   "id": "3cfffc20",
   "metadata": {},
   "outputs": [],
   "source": [
    "# with open('names.txt', 'r', encoding = 'UTF-8') as names_file:\n",
    "#     with open('body.txt', 'r', encoding = 'UTF-8') as body_file:\n",
    "#         body = body_files.read()\n",
    "        \n",
    "#         for name in names_file:\n",
    "#             mail = 'Hello, '+ name.strip() + body\n",
    "            \n",
    "#             with open(name.strip() + '.txt', 'w', encoding = 'UTF-8') as mail_files:\n",
    "#                 mail_files.write(mail)\n",
    "                \n",
    "# For this program, we have written all the names in separate lines in the file \"names.txt\". The body is in the \"body.txt\" file.\n",
    "# We open both the files in reading mode and iterate over each name using a for loop. A new file with the name \"[name].txt\" is created, where name is the name of that person.\n",
    "# We use strip() method to clean up leading and trailing whitespaces (reading a line from the file also reads the newline '\\n' character). Finally, we write the content of the mail into this file using the write() method.\n",
    "\n"
   ]
  },
  {
   "cell_type": "markdown",
   "id": "ea1ad9b9",
   "metadata": {},
   "source": [
    "Python Program to Find the Size (Resolution) of a Image"
   ]
  },
  {
   "cell_type": "code",
   "execution_count": 31,
   "id": "dc33ed0c",
   "metadata": {},
   "outputs": [],
   "source": [
    "# def img_reso(filename):\n",
    "#     with open(filename, 'rb') as img_file:\n",
    "#         img_file.seek(163)\n",
    "#         a = img_file.read(2)\n",
    "#         height = (a[0] << 8) + a[1]\n",
    "#         a= img_file.read(2)\n",
    "#         width = (a[0] << 8) + a[1]\n",
    "#     print(width + 'X' + height)\n",
    "# img_reso(img.jpeg)"
   ]
  },
  {
   "cell_type": "markdown",
   "id": "9dfa0fd1",
   "metadata": {},
   "source": [
    "Python Program to Find Hash of File"
   ]
  },
  {
   "cell_type": "code",
   "execution_count": 32,
   "id": "29c2cf77",
   "metadata": {},
   "outputs": [],
   "source": [
    "# import hashlib\n",
    "\n",
    "# def hash_file(filename):\n",
    "#         h = hashlib.sha1()\n",
    "        \n",
    "#         with open(filename, 'rb') as file:\n",
    "#             count = 0\n",
    "#             while count != b'':\n",
    "#                 count = file.read(1024)\n",
    "#                 h.update(count)\n",
    "#     return h.hexdigest()\n",
    "\n",
    "# hash_file(music.mp3)\n",
    "                \n",
    "# In this program, we open the file in binary mode. Hash functions are available in the hashlib module. We loop till the end of the file using a while loop. On reaching the end, we get empty bytes object.\n",
    "\n",
    "# In each iteration, we only read 1024 bytes (this value can be changed according to our wish) from the file and update the hashing function.\n",
    "\n",
    "# Finally, we return the digest message in hexadecimal representation using the hexdigest() method."
   ]
  },
  {
   "cell_type": "markdown",
   "id": "2fbfef9c",
   "metadata": {},
   "source": [
    "Python Program to Create Pyramid Patterns"
   ]
  },
  {
   "cell_type": "code",
   "execution_count": 33,
   "id": "8484b2c2",
   "metadata": {},
   "outputs": [
    {
     "name": "stdout",
     "output_type": "stream",
     "text": [
      "* \n",
      "\n",
      "* * \n",
      "\n",
      "* * * \n",
      "\n",
      "* * * * \n",
      "\n",
      "* * * * * \n",
      "\n",
      "* * * * * * \n",
      "\n",
      "* * * * * * * \n",
      "\n"
     ]
    }
   ],
   "source": [
    "n = 7\n",
    "\n",
    "for i in range(n):\n",
    "    for j in range(i+1):\n",
    "        print('* ', end = '')\n",
    "    print('\\n')"
   ]
  },
  {
   "cell_type": "code",
   "execution_count": 34,
   "id": "4b5ada01",
   "metadata": {},
   "outputs": [
    {
     "name": "stdout",
     "output_type": "stream",
     "text": [
      "1 \n",
      "\n",
      "1 2 \n",
      "\n",
      "1 2 3 \n",
      "\n",
      "1 2 3 4 \n",
      "\n",
      "1 2 3 4 5 \n",
      "\n"
     ]
    }
   ],
   "source": [
    "n = 5\n",
    " \n",
    "for i in range(n):\n",
    "    for j in range(i+1):\n",
    "        print(j+1, end =' ')\n",
    "    print('\\n')\n"
   ]
  },
  {
   "cell_type": "code",
   "execution_count": 35,
   "id": "8499d0c1",
   "metadata": {},
   "outputs": [
    {
     "name": "stdout",
     "output_type": "stream",
     "text": [
      "A \n",
      "\n",
      "B B \n",
      "\n",
      "C C C \n",
      "\n",
      "D D D D \n",
      "\n",
      "E E E E E \n",
      "\n"
     ]
    }
   ],
   "source": [
    "n = 5\n",
    "ascii_value = 65\n",
    " \n",
    "for i in range(n):\n",
    "    for j in range(i+1):\n",
    "        alphabet = chr(ascii_value)\n",
    "        print(alphabet, end =' ')\n",
    "        \n",
    "    print('\\n')\n",
    "    ascii_value += 1"
   ]
  },
  {
   "cell_type": "code",
   "execution_count": 36,
   "id": "b19524c1",
   "metadata": {},
   "outputs": [
    {
     "name": "stdout",
     "output_type": "stream",
     "text": [
      "* * * * * \n",
      "\n",
      "* * * * \n",
      "\n",
      "* * * \n",
      "\n",
      "* * \n",
      "\n",
      "* \n",
      "\n"
     ]
    }
   ],
   "source": [
    "n = 5\n",
    " \n",
    "for i in range(n, 0, -1):\n",
    "    for j in range(i):\n",
    "        print('*', end =' ')\n",
    "    print('\\n')"
   ]
  },
  {
   "cell_type": "code",
   "execution_count": 37,
   "id": "e4a5a371",
   "metadata": {},
   "outputs": [
    {
     "name": "stdout",
     "output_type": "stream",
     "text": [
      "1 2 3 4 5 \n",
      "\n",
      "1 2 3 4 \n",
      "\n",
      "1 2 3 \n",
      "\n",
      "1 2 \n",
      "\n",
      "1 \n",
      "\n"
     ]
    }
   ],
   "source": [
    "n = 5\n",
    " \n",
    "for i in range(n, 0, -1):\n",
    "    for j in range(i):\n",
    "        print(j+1, end =' ')\n",
    "    print('\\n')"
   ]
  },
  {
   "cell_type": "code",
   "execution_count": 38,
   "id": "83e0337b",
   "metadata": {},
   "outputs": [
    {
     "name": "stdout",
     "output_type": "stream",
     "text": [
      "        * \n",
      "      * * * \n",
      "    * * * * * \n",
      "  * * * * * * * \n",
      "* * * * * * * * * \n"
     ]
    }
   ],
   "source": [
    "n = 5\n",
    "k = 0\n",
    "\n",
    "for i in range(1, n+1):\n",
    "    for j in range(1, (n-i)+1):\n",
    "        print(end = \"  \")\n",
    "        \n",
    "    while k!=(2*i-1):\n",
    "        print('*', end = ' ')\n",
    "        k+=1\n",
    "\n",
    "    k=0\n",
    "    print()"
   ]
  },
  {
   "cell_type": "code",
   "execution_count": 39,
   "id": "5c7f7371",
   "metadata": {},
   "outputs": [
    {
     "name": "stdout",
     "output_type": "stream",
     "text": [
      "        1 \n",
      "      1 2 3 \n",
      "    1 2 3 4 5 \n",
      "  1 2 3 4 5 6 7 \n",
      "1 2 3 4 5 6 7 8 9 \n"
     ]
    }
   ],
   "source": [
    "n = 5\n",
    "k = 0\n",
    "\n",
    "for i in range(1, n+1):\n",
    "    for j in range(1, (n-i)+1):\n",
    "        print(end = \"  \")\n",
    "        \n",
    "    while k!=2*i-1:\n",
    "        print(k+1, end = ' ')\n",
    "        k+=1\n",
    "    k=0\n",
    "    print()"
   ]
  },
  {
   "cell_type": "code",
   "execution_count": null,
   "id": "780f00dc",
   "metadata": {},
   "outputs": [],
   "source": []
  },
  {
   "cell_type": "code",
   "execution_count": null,
   "id": "d51e8283",
   "metadata": {},
   "outputs": [],
   "source": []
  },
  {
   "cell_type": "code",
   "execution_count": null,
   "id": "707d8dc0",
   "metadata": {},
   "outputs": [],
   "source": []
  },
  {
   "cell_type": "code",
   "execution_count": null,
   "id": "3e299bce",
   "metadata": {},
   "outputs": [],
   "source": []
  },
  {
   "cell_type": "markdown",
   "id": "a9e22977",
   "metadata": {},
   "source": [
    "Python Program to Merge Two Dictionaries"
   ]
  },
  {
   "cell_type": "markdown",
   "id": "5f7d0197",
   "metadata": {},
   "source": [
    "dict_1 = {1: 'a', 2: 'b'}\n",
    "dict_2 = {2: 'c', 4: 'd'}\n",
    "\n",
    "print(dict_1 | dict_2)\n",
    "\n",
    "print({**dict_1, **dict_2})"
   ]
  },
  {
   "cell_type": "code",
   "execution_count": 40,
   "id": "88eaba38",
   "metadata": {},
   "outputs": [
    {
     "name": "stdout",
     "output_type": "stream",
     "text": [
      "{2: 'b', 4: 'd', 1: 'a'}\n"
     ]
    }
   ],
   "source": [
    "dict_1 = {1: 'a', 2: 'b'}\n",
    "dict_2 = {2: 'c', 4: 'd'}\n",
    "\n",
    "dict_3 = dict_2.copy()\n",
    "dict_3.update(dict_1)\n",
    "\n",
    "print(dict_3)"
   ]
  },
  {
   "cell_type": "markdown",
   "id": "0d05b38d",
   "metadata": {},
   "source": [
    "Python Program to Safely Create a Nested Directory"
   ]
  },
  {
   "cell_type": "code",
   "execution_count": null,
   "id": "c769c3c5",
   "metadata": {},
   "outputs": [],
   "source": []
  },
  {
   "cell_type": "code",
   "execution_count": null,
   "id": "7ab9d91b",
   "metadata": {},
   "outputs": [],
   "source": []
  },
  {
   "cell_type": "code",
   "execution_count": null,
   "id": "ee61a087",
   "metadata": {},
   "outputs": [],
   "source": []
  },
  {
   "cell_type": "code",
   "execution_count": null,
   "id": "e4534980",
   "metadata": {},
   "outputs": [],
   "source": []
  },
  {
   "cell_type": "markdown",
   "id": "1d491661",
   "metadata": {},
   "source": [
    "Python Program to Access Index of a List Using for Loop"
   ]
  },
  {
   "cell_type": "code",
   "execution_count": 41,
   "id": "a5a10fc6",
   "metadata": {},
   "outputs": [
    {
     "name": "stdout",
     "output_type": "stream",
     "text": [
      "0 31\n",
      "1 24\n",
      "2 36\n",
      "3 47\n",
      "4 58\n",
      "5 69\n",
      "\n",
      "\n",
      "0 31\n",
      "1 24\n",
      "2 36\n",
      "3 47\n",
      "4 58\n",
      "5 69\n"
     ]
    }
   ],
   "source": [
    "a = [31,24,36,47,58,69]\n",
    "\n",
    "for i,val in enumerate(a):\n",
    "    print(i, val)\n",
    "\n",
    "print('\\n')\n",
    "\n",
    "# Without using enumerate()\n",
    "\n",
    "a = [31,24,36,47,58,69]\n",
    "\n",
    "for i in range(len(a)):\n",
    "    value = a[i]\n",
    "    print(i, value)"
   ]
  },
  {
   "cell_type": "markdown",
   "id": "c541dcd9",
   "metadata": {},
   "source": [
    "Write a program that will convert celsius value to fahrenheit"
   ]
  },
  {
   "cell_type": "code",
   "execution_count": 42,
   "id": "73860b97",
   "metadata": {},
   "outputs": [
    {
     "data": {
      "text/plain": [
       "89.6"
      ]
     },
     "execution_count": 42,
     "metadata": {},
     "output_type": "execute_result"
    }
   ],
   "source": [
    "def cel_to_far(cel):\n",
    "    return ((9/5)*cel +32)\n",
    "\n",
    "cel_to_far(32)"
   ]
  },
  {
   "cell_type": "markdown",
   "id": "2d7d220e",
   "metadata": {},
   "source": [
    "User will input (2numbers).Write a program to swap the numbers"
   ]
  },
  {
   "cell_type": "code",
   "execution_count": 43,
   "id": "f4af8edc",
   "metadata": {},
   "outputs": [
    {
     "name": "stdout",
     "output_type": "stream",
     "text": [
      "3 5\n"
     ]
    }
   ],
   "source": [
    "num1 = 5\n",
    "num2 = 3\n",
    "\n",
    "temp = num1\n",
    "num1 = num2\n",
    "num2 = temp\n",
    "\n",
    "print(num1,num2)"
   ]
  },
  {
   "cell_type": "markdown",
   "id": "3f5b7c91",
   "metadata": {},
   "source": [
    "Write a program that will give you the sum of 3 digits"
   ]
  },
  {
   "cell_type": "code",
   "execution_count": 44,
   "id": "24ebdd79",
   "metadata": {},
   "outputs": [
    {
     "name": "stdout",
     "output_type": "stream",
     "text": [
      "15\n"
     ]
    }
   ],
   "source": [
    "num = 12345\n",
    "sum = 0\n",
    "\n",
    "temp = num\n",
    "while (temp > 0):\n",
    "    digit = temp % 10\n",
    "    sum += digit\n",
    "    temp //= 10\n",
    "    \n",
    "print(sum)"
   ]
  },
  {
   "cell_type": "code",
   "execution_count": 45,
   "id": "cbe38ccf",
   "metadata": {},
   "outputs": [
    {
     "name": "stdout",
     "output_type": "stream",
     "text": [
      "6\n",
      "9\n"
     ]
    }
   ],
   "source": [
    "def sum_thrice(x, y, z):\n",
    "    sum = x + y + z\n",
    "    return sum\n",
    "\n",
    "print(sum_thrice(1, 2, 3))\n",
    "print(sum_thrice(3, 3, 3))\n"
   ]
  },
  {
   "cell_type": "markdown",
   "id": "1330326b",
   "metadata": {},
   "source": [
    "Write a program that will reverse a four digit number.Also it checks whether the reverse is true."
   ]
  },
  {
   "cell_type": "code",
   "execution_count": 46,
   "id": "30b78bfe",
   "metadata": {},
   "outputs": [
    {
     "name": "stdout",
     "output_type": "stream",
     "text": [
      "4321\n"
     ]
    }
   ],
   "source": [
    "num = 1234\n",
    "reverse = 0\n",
    "\n",
    "while num != 0:\n",
    "    digit = num % 10\n",
    "    reverse = reverse*10 + digit\n",
    "    num //= 10\n",
    "print(reverse)\n",
    "    "
   ]
  },
  {
   "cell_type": "code",
   "execution_count": 47,
   "id": "5cd55b64",
   "metadata": {},
   "outputs": [],
   "source": [
    "# using slicing\n",
    "# num = 2345\n",
    "# print(str(num)[::-1])\n",
    "\n",
    "# Using the string slicing concept, you can get reverse the string. ::-1 corresponds to start:stop:step. \n",
    "# When you pass -1 as step, the start point goes to the end and stop at the front.\n",
    "\n"
   ]
  },
  {
   "cell_type": "markdown",
   "id": "6cf6d2d7",
   "metadata": {},
   "source": [
    "Write a program that will tell whether the number entered by the user is odd or even."
   ]
  },
  {
   "cell_type": "code",
   "execution_count": 48,
   "id": "e6c83812",
   "metadata": {},
   "outputs": [
    {
     "name": "stdout",
     "output_type": "stream",
     "text": [
      "the no. is even\n"
     ]
    }
   ],
   "source": [
    "num = 16\n",
    "\n",
    "if num % 2 == 0:\n",
    "    print(\"the no. is even\")   \n",
    "else:\n",
    "    print(\"the no. is odd\")\n",
    "    "
   ]
  },
  {
   "cell_type": "markdown",
   "id": "aed60b74",
   "metadata": {},
   "source": [
    "Write a program that will tell whether the given year is a leap year or not."
   ]
  },
  {
   "cell_type": "code",
   "execution_count": 49,
   "id": "7e1427bd",
   "metadata": {},
   "outputs": [
    {
     "name": "stdout",
     "output_type": "stream",
     "text": [
      "Leap Year\n"
     ]
    }
   ],
   "source": [
    "year = 2036\n",
    "\n",
    "if ((year % 400 == 0) or (year % 100 != 0) and (year % 4 == 0)):\n",
    "    print(\"Leap Year\")\n",
    "else:\n",
    "    print(\"non leap year\")"
   ]
  },
  {
   "cell_type": "markdown",
   "id": "cf9786aa",
   "metadata": {},
   "source": [
    "Calculate sum of all numbers present in a string"
   ]
  },
  {
   "cell_type": "code",
   "execution_count": 50,
   "id": "a53e2906",
   "metadata": {},
   "outputs": [
    {
     "name": "stdout",
     "output_type": "stream",
     "text": [
      "33\n"
     ]
    }
   ],
   "source": [
    "stri = \"123abcd45567jkdj\"\n",
    "sum = 0\n",
    "\n",
    "for i in stri:\n",
    "    if i.isdigit():\n",
    "        sum += int(i)\n",
    "    else:\n",
    "        continue\n",
    "print(sum)"
   ]
  },
  {
   "cell_type": "markdown",
   "id": "3596f975",
   "metadata": {},
   "source": [
    "Write a program to find the euclidean distance between two coordinates."
   ]
  },
  {
   "cell_type": "code",
   "execution_count": 51,
   "id": "50c662f7",
   "metadata": {},
   "outputs": [],
   "source": [
    "# def euclidean(a,b):\n",
    "#     return sum(((a[x] - b[x]) ** 2) for x in range(len(a))) ** 0.5\n",
    "\n",
    "# euclidean((3,2),(4,1))"
   ]
  },
  {
   "cell_type": "code",
   "execution_count": 52,
   "id": "24d28f8d",
   "metadata": {},
   "outputs": [],
   "source": [
    "# a = (2,3)\n",
    "# b = (4,3)\n",
    "# x1, y1 = map(int, a)\n",
    "# x2, y2 = map(int, b)\n",
    "\n",
    "# dist = ((x2-x1)**2 + (y2-y1)**2)**0.5\n",
    "# dist = str(dist)\n",
    "# print(\"The Euclidean Distance is \" + dist)"
   ]
  },
  {
   "cell_type": "markdown",
   "id": "7ddd8557",
   "metadata": {},
   "source": [
    "Write a program that take a user input of three angles and will find out whether it can form a triangle or not."
   ]
  },
  {
   "cell_type": "code",
   "execution_count": 53,
   "id": "36e21847",
   "metadata": {},
   "outputs": [
    {
     "name": "stdout",
     "output_type": "stream",
     "text": [
      "It can not form Triangle\n"
     ]
    }
   ],
   "source": [
    "a = 45\n",
    "b = 46\n",
    "c = 90\n",
    "\n",
    "if ((a+b+c) == 180):\n",
    "    print(\"It can form Triangle\")\n",
    "else:\n",
    "    print(\"It can not form Triangle\")"
   ]
  },
  {
   "cell_type": "markdown",
   "id": "9f4ed6a8",
   "metadata": {},
   "source": [
    "Write a program that will take user input of cost price and selling price and determines whether its a loss or a profit"
   ]
  },
  {
   "cell_type": "code",
   "execution_count": 54,
   "id": "cd9434f4",
   "metadata": {},
   "outputs": [
    {
     "name": "stdout",
     "output_type": "stream",
     "text": [
      "We have profit of 25.0 %\n"
     ]
    }
   ],
   "source": [
    "cp = 400\n",
    "sp = 500\n",
    "\n",
    "if cp <= sp:\n",
    "    profit = ((sp-cp)/cp) * 100\n",
    "    print(f\"We have profit of {profit} %\")\n",
    "else:\n",
    "    loss = ((cp-sp)/cp) * 100\n",
    "    print(f\"We have profit of {loss} %\")"
   ]
  },
  {
   "cell_type": "markdown",
   "id": "e8a94ab3",
   "metadata": {},
   "source": [
    "Write a program to find the simple interest when the value of principle,rate of interest and time period is given."
   ]
  },
  {
   "cell_type": "code",
   "execution_count": 55,
   "id": "f9dd90f3",
   "metadata": {},
   "outputs": [
    {
     "name": "stdout",
     "output_type": "stream",
     "text": [
      "500.0\n"
     ]
    }
   ],
   "source": [
    "p = 5000\n",
    "r = 5\n",
    "t = 2\n",
    "\n",
    "si = (p*r*t)/100\n",
    "print(si)"
   ]
  },
  {
   "cell_type": "markdown",
   "id": "e442aa54",
   "metadata": {},
   "source": [
    "Write a program to find the volume of the cylinder. Also find the cost when ,when the cost of 1litre milk is 40Rs."
   ]
  },
  {
   "cell_type": "code",
   "execution_count": 56,
   "id": "ae3d7aa4",
   "metadata": {},
   "outputs": [
    {
     "name": "stdout",
     "output_type": "stream",
     "text": [
      "The cost of 785.0 lt cylinder is 31400.0\n"
     ]
    }
   ],
   "source": [
    "r = 5\n",
    "h = 10\n",
    "\n",
    "volume = 3.14*(r*r)*h\n",
    "cost = volume*40\n",
    "\n",
    "print(f\"The cost of {volume} lt cylinder is {cost}\")"
   ]
  },
  {
   "cell_type": "markdown",
   "id": "8321688f",
   "metadata": {},
   "source": [
    "Write  a program that will tell whether the given number is divisible by 3 & 6."
   ]
  },
  {
   "cell_type": "code",
   "execution_count": 57,
   "id": "3a96a1b6",
   "metadata": {},
   "outputs": [
    {
     "name": "stdout",
     "output_type": "stream",
     "text": [
      "Num is Divisible by 3 and 6\n"
     ]
    }
   ],
   "source": [
    "num = 6\n",
    "\n",
    "if (num % 3) == 0 and (num % 6) == 0:\n",
    "    print(\"Num is Divisible by 3 and 6\")\n",
    "elif (num % 3) == 0:\n",
    "    print(\"Num is Divisible by 3\")\n",
    "elif (num % 6) == 0:\n",
    "    print(\"Num is Divisible by 6\")\n",
    "else:\n",
    "    print(\"Num is neither Divisible by 3 nor 6\")\n",
    "    "
   ]
  },
  {
   "cell_type": "markdown",
   "id": "1b4d64c8",
   "metadata": {},
   "source": [
    "<!-- Write a program that will determine weather when the value of temperature and humidity is provided by the user.\n",
    "TEMPERATURE(C)      HUMIDITY(%)      WEATHER\n",
    ">= 30                  >=90           Hot and Humid\n",
    ">= 30                  < 90           Hot\n",
    "<30                    >= 90          Cool and Humid\n",
    "<30                    <90            Cool\n",
    " -->"
   ]
  },
  {
   "cell_type": "code",
   "execution_count": 58,
   "id": "1495280e",
   "metadata": {},
   "outputs": [],
   "source": [
    "# Write a program that will determine weather when the value of temperature and humidity is provided by the user.\n",
    "# TEMPERATURE(C)      HUMIDITY(%)        WEATHER\n",
    "#       >= 30         >=90                Hot and Humid\n",
    "#       >= 30         < 90                Hot\n",
    "#       <30           >= 90               Cool and Humid\n",
    "#       <30           <90                 Cool\n",
    " \n"
   ]
  },
  {
   "cell_type": "code",
   "execution_count": 59,
   "id": "d8ff6163",
   "metadata": {},
   "outputs": [
    {
     "name": "stdout",
     "output_type": "stream",
     "text": [
      "Hot\n"
     ]
    }
   ],
   "source": [
    "temp = 50\n",
    "humi = 40\n",
    "\n",
    "if temp>=30 and humi>=90:\n",
    "    print(\"Hot and Humid\")\n",
    "elif temp>=30 and humi<90:\n",
    "    print(\"Hot\")\n",
    "elif temp<30 and humi>=90:\n",
    "    print(\"Cool and Humid\")\n",
    "elif temp<30 and humi<90:\n",
    "    print(\"Cool\")"
   ]
  },
  {
   "cell_type": "markdown",
   "id": "8a814144",
   "metadata": {},
   "source": [
    "Write a program that will take three digits from the user and add the square of each digit."
   ]
  },
  {
   "cell_type": "code",
   "execution_count": 60,
   "id": "03f00493",
   "metadata": {},
   "outputs": [],
   "source": [
    "# num = 123\n",
    "\n",
    "# res = [int(x) for x in str(num)]\n",
    "# print(res[0]**2 + res[1]**2 + res[2]**2)"
   ]
  },
  {
   "cell_type": "code",
   "execution_count": 61,
   "id": "f4444f6d",
   "metadata": {},
   "outputs": [
    {
     "name": "stdout",
     "output_type": "stream",
     "text": [
      "77\n"
     ]
    }
   ],
   "source": [
    "num = 456\n",
    "sumi = 0\n",
    "\n",
    "while(num>0):\n",
    "    rem = num % 10\n",
    "    sumi += rem**2\n",
    "    num //= 10\n",
    "print(sumi)"
   ]
  },
  {
   "cell_type": "markdown",
   "id": "f1a72f0c",
   "metadata": {},
   "source": [
    "Write a program that will check whether the number is armstrong number or not."
   ]
  },
  {
   "cell_type": "code",
   "execution_count": 62,
   "id": "214d6889",
   "metadata": {},
   "outputs": [],
   "source": [
    "# num = 371\n",
    "# order = len(str(num))\n",
    "# sumi = 0\n",
    "\n",
    "# temp = num\n",
    "# while (temp>0):\n",
    "#     rem = temp % 10\n",
    "#     sumi += rem**order\n",
    "#     temp //= 10\n",
    "# print(sumi)\n",
    "\n",
    "# if (sumi == num):\n",
    "#     print(\"Num. is Armstrong\")\n",
    "# else:\n",
    "#     print(\"Num. is not Armstrong\")"
   ]
  },
  {
   "cell_type": "markdown",
   "id": "06147366",
   "metadata": {},
   "source": [
    "Write a program that will take user input of (4 digits number) and check whether the number is narcissist(armstrong) number or not."
   ]
  },
  {
   "cell_type": "code",
   "execution_count": 63,
   "id": "a69aaa55",
   "metadata": {},
   "outputs": [
    {
     "data": {
      "text/plain": [
       "153"
      ]
     },
     "execution_count": 63,
     "metadata": {},
     "output_type": "execute_result"
    }
   ],
   "source": [
    "def narcissist(st):\n",
    "    leni = len(st)\n",
    "    sumi = 0\n",
    "    \n",
    "    for i in st:\n",
    "        sumi = sumi + int(i) ** leni\n",
    "            \n",
    "    num = int(st)\n",
    "    \n",
    "    if sumi == num:\n",
    "        return sumi \n",
    "    else:\n",
    "        return False\n",
    "    \n",
    "narcissist(\"153\")"
   ]
  },
  {
   "cell_type": "markdown",
   "id": "399b943a",
   "metadata": {},
   "source": [
    " Write a program that will give you the in hand salary after deduction of HRA(10%),DA(5%),PF(3%), and tax(if salary is between 5-10 lakh–10%),(11-20lakh–20%),(20< _   – 30%)(0-1lakh print k)."
   ]
  },
  {
   "cell_type": "code",
   "execution_count": 64,
   "id": "c3c069e1",
   "metadata": {},
   "outputs": [
    {
     "data": {
      "text/plain": [
       "2600000.0"
      ]
     },
     "execution_count": 64,
     "metadata": {},
     "output_type": "execute_result"
    }
   ],
   "source": [
    "def actual_salary(ctc):\n",
    "    hra = ctc*0.1\n",
    "    da = ctc*0.05\n",
    "    pf = ctc*0.03\n",
    "    \n",
    "    if ctc>=500000 and ctc<=1000000:\n",
    "        tax = ctc*0.1\n",
    "        sal = ctc - (hra + da + pf + tax)\n",
    "        return sal\n",
    "    elif ctc>=1100000 and ctc<=2000000:\n",
    "        tax = ctc*0.2\n",
    "        sal = ctc - (hra + da + pf + tax)\n",
    "        return sal\n",
    "    elif ctc>=2000000:\n",
    "        tax = ctc*0.3\n",
    "        sal = ctc - (hra + da + pf + tax)\n",
    "        return sal\n",
    "    \n",
    "actual_salary(5000000)"
   ]
  },
  {
   "cell_type": "markdown",
   "id": "94d2a0f5",
   "metadata": {},
   "source": [
    "Write a menu driven program - 1.cm to ft  2.kl to miles  3.usd to inr  4.exit\n"
   ]
  },
  {
   "cell_type": "code",
   "execution_count": 65,
   "id": "269a2305",
   "metadata": {},
   "outputs": [],
   "source": [
    "# def centi_to_feet(centi):\n",
    "#     return centi/30.48\n",
    "\n",
    "# def ki_to_mi(ki):\n",
    "#     return (ki/1.609344)\n",
    "\n",
    "# def Usd_to_Inr(usd):\n",
    "#     return usd*79.92\n",
    "    \n",
    "# print('''1) Type 1 to convert centimeter to feet\n",
    "# 2) Type 2 to convert kilometer to miles\n",
    "# 3) Type 3 to convert Usd to Inr\n",
    "# 4) Type 4 to exit''')\n",
    "\n",
    "# while True:\n",
    "#     choice = input(\"Enter the no. for the operation you want to perform (1/2/3/4) : \")\n",
    "    \n",
    "#     if choice == \"1\":\n",
    "#         centi = int(input(\"Enter the centimeter number that you want to change in feet :\"))\n",
    "#         feet = centi_to_feet(centi)\n",
    "#         print(feet)\n",
    "        \n",
    "#     elif choice == \"2\":\n",
    "#         centi = int(input(\"Enter the kilometer number that you want to change in miles :\"))\n",
    "#         miles = ki_to_mi(ki)\n",
    "#         print(miles)\n",
    "        \n",
    "#     elif choice == \"3\":\n",
    "#         usd = int(input(\"Enter the Usd amount that you want to change in Inr:\"))\n",
    "#         Inr = Usd_to_Inr(usd)\n",
    "#         print(Inr)\n",
    "        \n",
    "#     elif choice == \"4\":\n",
    "#         print(\"Bye\")\n",
    "#         break"
   ]
  },
  {
   "cell_type": "markdown",
   "id": "d2d0018c",
   "metadata": {},
   "source": [
    "Write a program that will tell the number of dogs and chicken are there when the user will provide the value of total heads and legs."
   ]
  },
  {
   "cell_type": "code",
   "execution_count": 66,
   "id": "ec0affbb",
   "metadata": {},
   "outputs": [
    {
     "name": "stdout",
     "output_type": "stream",
     "text": [
      "chickens : 20\n",
      "Dogs : 40\n"
     ]
    }
   ],
   "source": [
    "heads = 60\n",
    "legs = 200\n",
    "\n",
    "# x+y = 60\n",
    "# 2x+4y = 200\n",
    "# 200 = 2x+4(60-x)\n",
    "# 2x = 40\n",
    "\n",
    "chickens = (4*heads - legs)//2\n",
    "dogs = heads - chickens\n",
    "\n",
    "print(\"chickens :\", chickens)\n",
    "print(\"Dogs :\", dogs)"
   ]
  },
  {
   "cell_type": "code",
   "execution_count": 67,
   "id": "f942672b",
   "metadata": {},
   "outputs": [
    {
     "name": "stdout",
     "output_type": "stream",
     "text": [
      "chickens : 20\n",
      "Dogs : 40\n"
     ]
    }
   ],
   "source": [
    "def count_dogs(heads,legs):\n",
    "    count = (legs-2 * heads)//2\n",
    "    return count\n",
    "\n",
    "heads = 60\n",
    "legs = 200\n",
    "\n",
    "dogs = count_dogs(heads,legs)\n",
    "chickens = heads - dogs\n",
    "\n",
    "print(\"chickens :\", chickens)\n",
    "print(\"Dogs :\", dogs)"
   ]
  },
  {
   "cell_type": "markdown",
   "id": "0eb75820",
   "metadata": {},
   "source": [
    "Write a program that will swap numbers"
   ]
  },
  {
   "cell_type": "code",
   "execution_count": 68,
   "id": "166c6ed0",
   "metadata": {},
   "outputs": [
    {
     "data": {
      "text/plain": [
       "(5, 4)"
      ]
     },
     "execution_count": 68,
     "metadata": {},
     "output_type": "execute_result"
    }
   ],
   "source": [
    "def swap(num1,num2):\n",
    "    temp = num1\n",
    "    num1 = num2\n",
    "    num2 = temp\n",
    "    \n",
    "    return num1, num2\n",
    "\n",
    "swap(4,5)"
   ]
  },
  {
   "cell_type": "markdown",
   "id": "cb2c7d46",
   "metadata": {},
   "source": [
    "Write a program to find the sum of first n numbers, where n will be provided by the user. Eg if the user provides n=10 the output should be 55."
   ]
  },
  {
   "cell_type": "code",
   "execution_count": 69,
   "id": "d86ab97d",
   "metadata": {},
   "outputs": [
    {
     "name": "stdout",
     "output_type": "stream",
     "text": [
      "55\n"
     ]
    }
   ],
   "source": [
    "n = 10\n",
    "sum = 0\n",
    "\n",
    "for i in range(n,0,-1):\n",
    "    sum += i\n",
    "    \n",
    "print(sum)"
   ]
  },
  {
   "cell_type": "markdown",
   "id": "95c483b7",
   "metadata": {},
   "source": [
    "Write a program that can multiply 2 numbers provided by the user without using the * operator"
   ]
  },
  {
   "cell_type": "code",
   "execution_count": 70,
   "id": "05702541",
   "metadata": {},
   "outputs": [
    {
     "name": "stdout",
     "output_type": "stream",
     "text": [
      "18\n"
     ]
    }
   ],
   "source": [
    "fst_no = 3\n",
    "scnd_no = 6\n",
    "mul = 0\n",
    "\n",
    "for i in range(1,fst_no+1):\n",
    "    mul += scnd_no\n",
    "    \n",
    "print(mul)"
   ]
  },
  {
   "cell_type": "markdown",
   "id": "934c21ac",
   "metadata": {},
   "source": [
    "Write a program that can find the factorial of a given number provided by the user."
   ]
  },
  {
   "cell_type": "code",
   "execution_count": 71,
   "id": "2e131d20",
   "metadata": {},
   "outputs": [
    {
     "name": "stdout",
     "output_type": "stream",
     "text": [
      "24\n"
     ]
    }
   ],
   "source": [
    "num = 4\n",
    "fac = 1\n",
    "\n",
    "for i in range(num,1,-1):\n",
    "    fac *= i\n",
    "    \n",
    "print(fac)"
   ]
  },
  {
   "cell_type": "markdown",
   "id": "8b322b3f",
   "metadata": {},
   "source": [
    "Write a program to print the first 25 odd numbers"
   ]
  },
  {
   "cell_type": "code",
   "execution_count": 72,
   "id": "dedd93a5",
   "metadata": {},
   "outputs": [
    {
     "name": "stdout",
     "output_type": "stream",
     "text": [
      "51\n",
      "53\n",
      "55\n",
      "57\n",
      "59\n",
      "61\n",
      "63\n",
      "65\n",
      "67\n",
      "69\n",
      "71\n",
      "73\n",
      "75\n",
      "77\n",
      "79\n",
      "81\n",
      "83\n",
      "85\n",
      "87\n",
      "89\n",
      "91\n",
      "93\n",
      "95\n",
      "97\n",
      "99\n"
     ]
    }
   ],
   "source": [
    "num1 = 50\n",
    "num2 = 100\n",
    "\n",
    "for i in range(num1, num2):\n",
    "    if (i % 2 == 0):\n",
    "        continue\n",
    "    else:\n",
    "        print(i)\n",
    "    "
   ]
  },
  {
   "cell_type": "markdown",
   "id": "8e259746",
   "metadata": {},
   "source": [
    "Write a program to print whether a given number is prime number or not"
   ]
  },
  {
   "cell_type": "code",
   "execution_count": 73,
   "id": "94aacf01",
   "metadata": {},
   "outputs": [
    {
     "name": "stdout",
     "output_type": "stream",
     "text": [
      "This is prime num\n"
     ]
    }
   ],
   "source": [
    "num = 25\n",
    "\n",
    "for i in range(2,num+1):\n",
    "    if num % i == 0:\n",
    "        print(\"This is not an prime num.\")\n",
    "        break\n",
    "    else:\n",
    "        print(\"This is prime num\")\n",
    "        break\n",
    "    "
   ]
  },
  {
   "cell_type": "markdown",
   "id": "27dc8c26",
   "metadata": {},
   "source": [
    "Print all the armstrong numbers in the range of 100 to 1000"
   ]
  },
  {
   "cell_type": "code",
   "execution_count": 74,
   "id": "77dc32b4",
   "metadata": {},
   "outputs": [],
   "source": [
    "# num1 = 100\n",
    "# num2 = 1000\n",
    "\n",
    "# for i in range(num1, num2+1):\n",
    "#     sum = 0\n",
    "#     order = len(str(i))\n",
    "#     temp = i\n",
    "    \n",
    "#     while temp>0:  \n",
    "#         digit = temp % 10\n",
    "#         sum = sum + digit**order\n",
    "#         temp //= 10\n",
    "    \n",
    "#     if i == sum:\n",
    "#         print(i)"
   ]
  },
  {
   "cell_type": "code",
   "execution_count": 75,
   "id": "6cf50a40",
   "metadata": {},
   "outputs": [],
   "source": [
    "# The current population of a town is 10000. The population of the town is increasing at the rate of 10% per year.\n",
    "# You have to write a program to find out the population at the end of each of the last 10 years.\n",
    "# For eg current population is 10000 so the output should be like this:\n",
    "# 10th year - 10000\n",
    "# 9th year - 9000\n",
    "# 8th year - 8100 and so on\n"
   ]
  },
  {
   "cell_type": "code",
   "execution_count": 76,
   "id": "f451a6a8",
   "metadata": {},
   "outputs": [
    {
     "name": "stdout",
     "output_type": "stream",
     "text": [
      "For 10 year population is  10000\n",
      "For 9 year population is  9000.0\n",
      "For 8 year population is  8100.0\n",
      "For 7 year population is  7290.0\n",
      "For 6 year population is  6561.0\n",
      "For 5 year population is  5904.9\n",
      "For 4 year population is  5314.41\n",
      "For 3 year population is  4782.969\n",
      "For 2 year population is  4304.6721\n",
      "For 1 year population is  3874.20489\n"
     ]
    }
   ],
   "source": [
    "popu = 10000\n",
    "year = 10\n",
    "\n",
    "for i in range(year,0,-1):\n",
    "    print(f\"For {i} year population is \", popu)\n",
    "    popu = popu - popu*(10/100)"
   ]
  },
  {
   "cell_type": "markdown",
   "id": "03ba6f4e",
   "metadata": {},
   "source": [
    "Write a program to print all the unique combinations of 1,2,3 and 4"
   ]
  },
  {
   "cell_type": "code",
   "execution_count": 77,
   "id": "45073bf0",
   "metadata": {},
   "outputs": [
    {
     "name": "stdout",
     "output_type": "stream",
     "text": [
      "1 2 3 4\n",
      "1 2 4 3\n",
      "1 3 2 4\n",
      "1 3 4 2\n",
      "1 4 2 3\n",
      "1 4 3 2\n",
      "2 1 3 4\n",
      "2 1 4 3\n",
      "2 3 1 4\n",
      "2 3 4 1\n",
      "2 4 1 3\n",
      "2 4 3 1\n",
      "3 1 2 4\n",
      "3 1 4 2\n",
      "3 2 1 4\n",
      "3 2 4 1\n",
      "3 4 1 2\n",
      "3 4 2 1\n",
      "4 1 2 3\n",
      "4 1 3 2\n",
      "4 2 1 3\n",
      "4 2 3 1\n",
      "4 3 1 2\n",
      "4 3 2 1\n"
     ]
    }
   ],
   "source": [
    "def combination(L):\n",
    "    for i in range(4):\n",
    "        for j in range(4):\n",
    "            for k in range(4):\n",
    "                for l in range(4):\n",
    "                    if (i!=j and j!=k and k!=l and l!=i and j!=l and i!=k):\n",
    "                        print(L[i],L[j],L[k],L[l])\n",
    "combination([1,2,3,4])"
   ]
  },
  {
   "cell_type": "code",
   "execution_count": 78,
   "id": "e26a618e",
   "metadata": {},
   "outputs": [
    {
     "name": "stdout",
     "output_type": "stream",
     "text": [
      "1 2 3\n",
      "1 3 2\n",
      "2 1 3\n",
      "2 3 1\n",
      "3 1 2\n",
      "3 2 1\n"
     ]
    }
   ],
   "source": [
    "# Python program to print all\n",
    "# the possible combinations\n",
    "  \n",
    "def comb(L):\n",
    "      \n",
    "    for i in range(3):\n",
    "        for j in range(3):\n",
    "            for k in range(3):\n",
    "                  \n",
    "                # check if the indexes are not\n",
    "                # same\n",
    "                if (i!=j and j!=k and i!=k):\n",
    "                    print(L[i], L[j], L[k])\n",
    "                      \n",
    "# Driver Code\n",
    "comb([1, 2, 3])"
   ]
  },
  {
   "cell_type": "code",
   "execution_count": 79,
   "id": "f9596333",
   "metadata": {},
   "outputs": [
    {
     "name": "stdout",
     "output_type": "stream",
     "text": [
      "(1, 2, 3)\n",
      "(1, 3, 2)\n",
      "(2, 1, 3)\n",
      "(2, 3, 1)\n",
      "(3, 1, 2)\n",
      "(3, 2, 1)\n"
     ]
    }
   ],
   "source": [
    "# Python program to print all\n",
    "# the possible combinations\n",
    "\n",
    "from itertools import permutations\n",
    "\n",
    "# Get all combination of [1, 2, 3]\n",
    "# of length 3\n",
    "comb = permutations([1, 2, 3], 3)\n",
    "\n",
    "for i in comb:\n",
    "\tprint(i)"
   ]
  },
  {
   "cell_type": "markdown",
   "id": "0821d476",
   "metadata": {},
   "source": [
    "User will provide 2 numbers you have to find the HCF of those 2 numbers"
   ]
  },
  {
   "cell_type": "code",
   "execution_count": 80,
   "id": "2648104b",
   "metadata": {},
   "outputs": [
    {
     "name": "stdout",
     "output_type": "stream",
     "text": [
      "6\n"
     ]
    }
   ],
   "source": [
    "num1 = 54\n",
    "num2 = 24\n",
    "\n",
    "if num1>num2:\n",
    "    smaller = num2\n",
    "else:\n",
    "    smaller = num1\n",
    "    \n",
    "for i in range(1,smaller+1):\n",
    "    if (num1 % i == 0) and (num2 % i == 0):\n",
    "        hcf = i\n",
    "        \n",
    "print(hcf)"
   ]
  },
  {
   "cell_type": "code",
   "execution_count": 81,
   "id": "67d475d7",
   "metadata": {},
   "outputs": [
    {
     "name": "stdout",
     "output_type": "stream",
     "text": [
      "The HCF is 100\n"
     ]
    }
   ],
   "source": [
    "# Function to find HCF the Using Euclidian algorithm\n",
    "def compute_hcf(x, y):\n",
    "    while(y):\n",
    "        x, y = y, x % y\n",
    "    return x\n",
    "\n",
    "hcf = compute_hcf(300, 400)\n",
    "print(\"The HCF is\", hcf)"
   ]
  },
  {
   "cell_type": "markdown",
   "id": "5de9b72e",
   "metadata": {},
   "source": [
    "User will provide 2 numbers you have to find the by LCM of those 2 numbers"
   ]
  },
  {
   "cell_type": "code",
   "execution_count": 82,
   "id": "049208f2",
   "metadata": {},
   "outputs": [
    {
     "name": "stdout",
     "output_type": "stream",
     "text": [
      "72\n"
     ]
    }
   ],
   "source": [
    "num1 = 24\n",
    "num2 = 72\n",
    "\n",
    "if num1>num2:\n",
    "    larger = num1\n",
    "else:\n",
    "    larger = num2\n",
    "\n",
    "while True:\n",
    "    if (larger % num1 == 0) and (larger % num2 == 0):\n",
    "        print(larger)\n",
    "        break\n",
    "    larger += 1   "
   ]
  },
  {
   "cell_type": "markdown",
   "id": "ed48471a",
   "metadata": {},
   "source": [
    "Print first 25 prime numbers"
   ]
  },
  {
   "cell_type": "code",
   "execution_count": 83,
   "id": "2fc52df0",
   "metadata": {},
   "outputs": [
    {
     "name": "stdout",
     "output_type": "stream",
     "text": [
      "The first 25 10-digit prime numbers are:\n",
      "1 1\n",
      "2 2\n",
      "3 3\n",
      "4 5\n",
      "5 7\n",
      "6 11\n",
      "7 13\n",
      "8 17\n",
      "9 19\n",
      "10 23\n",
      "11 29\n",
      "12 31\n",
      "13 37\n",
      "14 41\n",
      "15 43\n",
      "16 47\n",
      "17 53\n",
      "18 59\n",
      "19 61\n",
      "20 67\n",
      "21 71\n",
      "22 73\n",
      "23 79\n",
      "24 83\n",
      "25 89\n"
     ]
    }
   ],
   "source": [
    "minimum = 1\n",
    "maximum = 99\n",
    "print (\"The first 25 10-digit prime numbers are:\")\n",
    "counter = 0\n",
    "for num in range (minimum, maximum + 1):\n",
    "    if counter == 25: break\n",
    "    if num > 3:\n",
    "        for i in range (2, num):\n",
    "            if (num % i) == 0:\n",
    "                break\n",
    "        else:\n",
    "            counter += 1\n",
    "            print(counter,num)\n",
    "    else:\n",
    "        counter += 1\n",
    "        print(counter,num)"
   ]
  },
  {
   "cell_type": "code",
   "execution_count": 84,
   "id": "bb8a3fb0",
   "metadata": {},
   "outputs": [
    {
     "name": "stdout",
     "output_type": "stream",
     "text": [
      "2\n",
      "3\n",
      "5\n",
      "7\n",
      "11\n",
      "13\n",
      "17\n",
      "19\n",
      "23\n",
      "29\n",
      "31\n",
      "37\n",
      "41\n",
      "43\n",
      "47\n",
      "53\n",
      "59\n",
      "61\n",
      "67\n",
      "71\n",
      "73\n",
      "79\n",
      "83\n",
      "89\n",
      "97\n"
     ]
    }
   ],
   "source": [
    "from sympy import isprime\n",
    "i=1\n",
    "count = 0\n",
    "while count < 25:\n",
    "    if isprime(i):\n",
    "        print(i)\n",
    "        count += 1\n",
    "    i += 1"
   ]
  },
  {
   "cell_type": "markdown",
   "id": "329e4893",
   "metadata": {},
   "source": [
    "Print the first 20 numbers of a Fibonacci series"
   ]
  },
  {
   "cell_type": "code",
   "execution_count": 85,
   "id": "736ff7f2",
   "metadata": {},
   "outputs": [
    {
     "name": "stdout",
     "output_type": "stream",
     "text": [
      "0 1 1 2 3 5 8 13 21 34 55 89 144 233 377 610 987 1597 2584 4181 "
     ]
    }
   ],
   "source": [
    "nterms = 100\n",
    "n1,n2 = 0,1\n",
    "count = 0\n",
    "\n",
    "if nterms == 1:\n",
    "    print(n1)\n",
    "elif nterms > 1:\n",
    "    while count < 20:\n",
    "        print(n1, end = \" \")\n",
    "        nth = n1 + n2\n",
    "        n1 = n2\n",
    "        n2 = nth\n",
    "        count += 1\n",
    "else:\n",
    "    print(\"Please enter positive no. which is more than 0\")        "
   ]
  },
  {
   "cell_type": "code",
   "execution_count": 86,
   "id": "1b1fa803",
   "metadata": {},
   "outputs": [
    {
     "name": "stdout",
     "output_type": "stream",
     "text": [
      "0 1 1 2 3 5 8 13 "
     ]
    }
   ],
   "source": [
    "import math\n",
    "\n",
    "def fibonacci(n):\n",
    " \n",
    "    for i in range(n):\n",
    "        # Using direct formula\n",
    "        fib = ((pow((1 + math.sqrt(5)), i) -\n",
    "                pow((1 - math.sqrt(5)), i)) /\n",
    "               (pow(2, i) * math.sqrt(5)))\n",
    "                 \n",
    "        print(int(fib), end = \" \")\n",
    " \n",
    "n = 8\n",
    "fibonacci(n)"
   ]
  },
  {
   "cell_type": "markdown",
   "id": "4fc83e38",
   "metadata": {},
   "source": [
    "Write a program to find the compound interest "
   ]
  },
  {
   "cell_type": "code",
   "execution_count": 87,
   "id": "ae10476b",
   "metadata": {},
   "outputs": [
    {
     "name": "stdout",
     "output_type": "stream",
     "text": [
      "1102.5\n"
     ]
    }
   ],
   "source": [
    "p = 1000\n",
    "t = 2\n",
    "r = 5\n",
    "\n",
    "ci = (p * (1+(r/100))**t)\n",
    "print(ci)"
   ]
  },
  {
   "cell_type": "markdown",
   "id": "7b1b7236",
   "metadata": {},
   "source": [
    "Write a Python program that accepts an integer (n) and computes the value of n+nn+nnn."
   ]
  },
  {
   "cell_type": "code",
   "execution_count": 88,
   "id": "a3e5e13e",
   "metadata": {},
   "outputs": [
    {
     "name": "stdout",
     "output_type": "stream",
     "text": [
      "615\n"
     ]
    }
   ],
   "source": [
    "# n = input(\"n :\")\n",
    "n = \"5\"\n",
    "sumi = 0\n",
    "\n",
    "for i in range(1, 4):\n",
    "    sumi += int(n*i)\n",
    "print(sumi)"
   ]
  },
  {
   "cell_type": "code",
   "execution_count": 89,
   "id": "42a62e7b",
   "metadata": {},
   "outputs": [
    {
     "name": "stdout",
     "output_type": "stream",
     "text": [
      "61725\n"
     ]
    }
   ],
   "source": [
    "# n = input('n: ')\n",
    "n = \"5\"\n",
    "s = 0\n",
    "for i in range(1, int(n) + 1):\n",
    "    s += int(n * i) # n is a string, multiplying with int results in replication\n",
    "\n",
    "print(s)"
   ]
  },
  {
   "cell_type": "markdown",
   "id": "dd1ec055",
   "metadata": {},
   "source": [
    "Take a number from the user and find the number of digits in it. "
   ]
  },
  {
   "cell_type": "code",
   "execution_count": 90,
   "id": "266bbdfe",
   "metadata": {},
   "outputs": [],
   "source": [
    "# def ndigit(num):\n",
    "#     n = str(num)\n",
    "#     count = 0\n",
    "#     for i in n:\n",
    "#         count += 1\n",
    "#     return count\n",
    "\n",
    "# num = 123444\n",
    "# ndigit(num)      "
   ]
  },
  {
   "cell_type": "markdown",
   "id": "0feec29f",
   "metadata": {},
   "source": [
    "Print all factors of a given number provided by the user."
   ]
  },
  {
   "cell_type": "code",
   "execution_count": 91,
   "id": "649c2fbc",
   "metadata": {},
   "outputs": [
    {
     "name": "stdout",
     "output_type": "stream",
     "text": [
      "[1, 2, 3, 4, 6, 8, 12, 24]\n"
     ]
    }
   ],
   "source": [
    "num = 24\n",
    "\n",
    "list = []\n",
    "for i in range(1,num+1):\n",
    "    if num % i == 0:\n",
    "        list.append(i)\n",
    "print(list)"
   ]
  },
  {
   "cell_type": "markdown",
   "id": "8bf345a0",
   "metadata": {},
   "source": [
    "Find the reverse of a number provided by the user(any number of digit) "
   ]
  },
  {
   "cell_type": "code",
   "execution_count": 92,
   "id": "919394fa",
   "metadata": {},
   "outputs": [
    {
     "name": "stdout",
     "output_type": "stream",
     "text": [
      "4321\n"
     ]
    }
   ],
   "source": [
    "num = 1234\n",
    "rev = 0\n",
    "\n",
    "while num > 0:\n",
    "    digit = num % 10\n",
    "    rev = rev * 10 + digit\n",
    "    num //= 10\n",
    "    \n",
    "print(rev)"
   ]
  },
  {
   "cell_type": "code",
   "execution_count": 93,
   "id": "f8e3fccd",
   "metadata": {},
   "outputs": [],
   "source": [
    "# Write a program to print the following pattern\n",
    "# *\n",
    "# **\n",
    "# ***\n",
    "# ****\n",
    "# *****\n"
   ]
  },
  {
   "cell_type": "code",
   "execution_count": 94,
   "id": "da7ba01c",
   "metadata": {},
   "outputs": [
    {
     "name": "stdout",
     "output_type": "stream",
     "text": [
      "* \n",
      "* * \n",
      "* * * \n",
      "* * * * \n",
      "* * * * * \n"
     ]
    }
   ],
   "source": [
    "n = 5\n",
    "for i in range(1,n+1):\n",
    "    for j in range(i):\n",
    "        print(\"*\", end = \" \")\n",
    "        \n",
    "    print(\"\")"
   ]
  },
  {
   "cell_type": "code",
   "execution_count": 95,
   "id": "d509129f",
   "metadata": {},
   "outputs": [],
   "source": [
    "# Write a program to print the following pattern\n",
    "#       *\n",
    "#      ***\n",
    "#     *****\n",
    "#    *******\n",
    "#   *********\n",
    "#    *******\n",
    "#     *****\n",
    "#      ***\n",
    "#       *"
   ]
  },
  {
   "cell_type": "code",
   "execution_count": 96,
   "id": "4cd4bf29",
   "metadata": {},
   "outputs": [
    {
     "name": "stdout",
     "output_type": "stream",
     "text": [
      "      *\n",
      "     ***\n",
      "    *****\n",
      "   *******\n",
      "  *********\n",
      "   *******\n",
      "    *****\n",
      "     ***\n",
      "      *\n"
     ]
    }
   ],
   "source": [
    "h = 5\n",
    "for x in range(h):\n",
    "    print(\" \" * (h - x), \"*\" * (2*x + 1))\n",
    "for x in range(h - 2, -1, -1):\n",
    "    print(\" \" * (h - x), \"*\" * (2*x + 1))"
   ]
  },
  {
   "cell_type": "code",
   "execution_count": 97,
   "id": "cf057a23",
   "metadata": {},
   "outputs": [],
   "source": [
    "# Write a program to print the following pattern\n",
    "# *\n",
    "# **\n",
    "# ***\n",
    "# **\n",
    "# *"
   ]
  },
  {
   "cell_type": "code",
   "execution_count": 98,
   "id": "c72ce101",
   "metadata": {},
   "outputs": [
    {
     "name": "stdout",
     "output_type": "stream",
     "text": [
      "*\n",
      "**\n",
      "***\n",
      "**\n",
      "*\n"
     ]
    }
   ],
   "source": [
    "h = 3\n",
    "for x in range(1, h):\n",
    "    print(\"*\" * (x))\n",
    "for x in range(h, 0, -1):\n",
    "    print(\"*\" * (x))"
   ]
  },
  {
   "cell_type": "code",
   "execution_count": 99,
   "id": "46069252",
   "metadata": {},
   "outputs": [],
   "source": [
    "# Write  a program to print the following pattern\n",
    "#         *\n",
    "#       * * *\n",
    "#     * * * * *\n",
    "#    * * * * * * *\n",
    "# * * * * * * * * *\n"
   ]
  },
  {
   "cell_type": "code",
   "execution_count": 100,
   "id": "6a682a2e",
   "metadata": {},
   "outputs": [
    {
     "name": "stdout",
     "output_type": "stream",
     "text": [
      "      *\n",
      "     ***\n",
      "    *****\n",
      "   *******\n",
      "  *********\n"
     ]
    }
   ],
   "source": [
    "n = 5\n",
    "for i in range(n):\n",
    "    print(\" \" * (n-i), \"*\" * (2*i + 1))"
   ]
  },
  {
   "cell_type": "code",
   "execution_count": 101,
   "id": "c48396a7",
   "metadata": {},
   "outputs": [],
   "source": [
    "# Write a program to print the following pattern\n",
    "# 1\n",
    "# 1 2 1\n",
    "# 1 2 3 2 1\n",
    "# 1 2 3 4 3 2 1\n",
    "# 1 2 3 4 5 4 3 2 1\n"
   ]
  },
  {
   "cell_type": "code",
   "execution_count": 102,
   "id": "377e1da5",
   "metadata": {},
   "outputs": [
    {
     "name": "stdout",
     "output_type": "stream",
     "text": [
      "1 \n",
      "1 2 1 \n",
      "1 2 3 2 1 \n",
      "1 2 3 4 3 2 1 \n",
      "1 2 3 4 5 4 3 2 1 \n"
     ]
    }
   ],
   "source": [
    "n = 6\n",
    "for i in range(1,n):\n",
    "    for j in range(1,i):\n",
    "        print(j, end = \" \")   \n",
    "    for k in range(i, 0 , -1):\n",
    "        print(k, end = \" \")\n",
    "        \n",
    "    print(\"\")"
   ]
  },
  {
   "cell_type": "code",
   "execution_count": 103,
   "id": "1838ead0",
   "metadata": {},
   "outputs": [],
   "source": [
    "# Write a program to print the following pattern\n",
    "# 1\n",
    "# 2 3\n",
    "# 4 5 6\n",
    "# 7 8 9 10\n"
   ]
  },
  {
   "cell_type": "code",
   "execution_count": 104,
   "id": "da922c8b",
   "metadata": {},
   "outputs": [
    {
     "name": "stdout",
     "output_type": "stream",
     "text": [
      "1 \n",
      "2 3 \n",
      "4 5 6 \n",
      "7 8 9 10 \n"
     ]
    }
   ],
   "source": [
    "n = 4\n",
    "num = 1\n",
    "\n",
    "for i in range(1, n+1):\n",
    "    for j in range(1, i+1):\n",
    "        print(num, end = \" \")\n",
    "        num += 1\n",
    "    print()"
   ]
  },
  {
   "cell_type": "code",
   "execution_count": null,
   "id": "c7095bb1",
   "metadata": {},
   "outputs": [],
   "source": []
  }
 ],
 "metadata": {
  "kernelspec": {
   "display_name": "Python 3 (ipykernel)",
   "language": "python",
   "name": "python3"
  },
  "language_info": {
   "codemirror_mode": {
    "name": "ipython",
    "version": 3
   },
   "file_extension": ".py",
   "mimetype": "text/x-python",
   "name": "python",
   "nbconvert_exporter": "python",
   "pygments_lexer": "ipython3",
   "version": "3.9.12"
  }
 },
 "nbformat": 4,
 "nbformat_minor": 5
}
